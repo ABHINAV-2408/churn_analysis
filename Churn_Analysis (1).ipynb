{
 "cells": [
  {
   "cell_type": "markdown",
   "metadata": {
    "id": "aIUu6JT9jRnX"
   },
   "source": [
    "#**1. Import Drive:**"
   ]
  },
  {
   "cell_type": "code",
   "execution_count": null,
   "metadata": {
    "id": "NAWut5ssjB5H"
   },
   "outputs": [],
   "source": [
    "from google.colab import drive"
   ]
  },
  {
   "cell_type": "code",
   "execution_count": null,
   "metadata": {
    "colab": {
     "base_uri": "https://localhost:8080/"
    },
    "id": "MxcDYggRjh-d",
    "outputId": "ab658d42-6a23-4178-84ae-593e4fb9387a"
   },
   "outputs": [],
   "source": [
    "#drive mount:\n",
    "drive.mount('/content/drive/')"
   ]
  },
  {
   "cell_type": "markdown",
   "metadata": {
    "id": "o1z4O8kzkNEA"
   },
   "source": [
    "# **2. Import Libraries**"
   ]
  },
  {
   "cell_type": "code",
   "execution_count": null,
   "metadata": {
    "id": "EB_aPo-IjnM2"
   },
   "outputs": [],
   "source": [
    "#importing Basic libraries\n",
    "import pandas as pd\n",
    "import numpy as np\n",
    "import matplotlib.pyplot as plt\n",
    "import seaborn as sns\n",
    "from sklearn.metrics import precision_score, recall_score, confusion_matrix, classification_report, accuracy_score, f1_score\n",
    "\n",
    "import warnings\n",
    "warnings.filterwarnings(\"ignore\")\n"
   ]
  },
  {
   "cell_type": "markdown",
   "metadata": {
    "id": "dBBp9v6CkV2e"
   },
   "source": [
    "Read data set using Pandas"
   ]
  },
  {
   "cell_type": "code",
   "execution_count": null,
   "metadata": {
    "id": "kv6zYATsjxE2"
   },
   "outputs": [],
   "source": [
    "data = pd.read_csv(\"customer_data.csv\")"
   ]
  },
  {
   "cell_type": "markdown",
   "metadata": {
    "id": "qC0TgPsvj_6o"
   },
   "source": [
    "# **3. Exploratory Data Analysis**"
   ]
  },
  {
   "cell_type": "code",
   "execution_count": null,
   "metadata": {
    "colab": {
     "base_uri": "https://localhost:8080/",
     "height": 226
    },
    "id": "dzZOiZUcj0QM",
    "outputId": "b1a2a44e-d989-4df4-b02f-7946a9fdb87f"
   },
   "outputs": [],
   "source": [
    "#data head\n",
    "data.head(5)"
   ]
  },
  {
   "cell_type": "code",
   "execution_count": null,
   "metadata": {
    "colab": {
     "base_uri": "https://localhost:8080/",
     "height": 383
    },
    "id": "RxiQEF87klnG",
    "outputId": "61bc364e-3ea2-4ba4-8f08-6baafd9d14dd"
   },
   "outputs": [],
   "source": [
    "data.tail(10)"
   ]
  },
  {
   "cell_type": "code",
   "execution_count": null,
   "metadata": {
    "colab": {
     "base_uri": "https://localhost:8080/"
    },
    "id": "HC2C0qiBkos6",
    "outputId": "47c5aa93-15d5-429b-bea1-c2a1c0fedf29"
   },
   "outputs": [],
   "source": [
    "print(\"Shape:\",data.shape)\n",
    "print(\"Size: \",data.size)"
   ]
  },
  {
   "cell_type": "code",
   "execution_count": null,
   "metadata": {
    "colab": {
     "base_uri": "https://localhost:8080/"
    },
    "id": "E6euCeUqk1d9",
    "outputId": "beef7357-44b9-4494-dd44-ced5c5a22e30"
   },
   "outputs": [],
   "source": [
    "data.size"
   ]
  },
  {
   "cell_type": "code",
   "execution_count": null,
   "metadata": {
    "colab": {
     "base_uri": "https://localhost:8080/"
    },
    "id": "M4cmnlhCk2kw",
    "outputId": "a8d71af1-057c-4299-e759-e41b8cbd0b32"
   },
   "outputs": [],
   "source": [
    "data.columns"
   ]
  },
  {
   "cell_type": "code",
   "execution_count": null,
   "metadata": {
    "colab": {
     "base_uri": "https://localhost:8080/"
    },
    "id": "e3SYRgMok4S7",
    "outputId": "61ae9841-ec88-43cf-ecff-419d817e012e"
   },
   "outputs": [],
   "source": [
    "len(data.columns)"
   ]
  },
  {
   "cell_type": "code",
   "execution_count": null,
   "metadata": {
    "colab": {
     "base_uri": "https://localhost:8080/"
    },
    "id": "6kzoofpFk6r2",
    "outputId": "e7c2eb60-88bc-46d2-8a6e-d7985b903fba"
   },
   "outputs": [],
   "source": [
    "data.info()"
   ]
  },
  {
   "cell_type": "code",
   "execution_count": null,
   "metadata": {
    "colab": {
     "base_uri": "https://localhost:8080/",
     "height": 320
    },
    "id": "_wo9-Bdsk8JZ",
    "outputId": "6566795b-3b0a-408c-9122-99a80e69562f"
   },
   "outputs": [],
   "source": [
    "data.describe()"
   ]
  },
  {
   "cell_type": "code",
   "execution_count": null,
   "metadata": {
    "colab": {
     "base_uri": "https://localhost:8080/"
    },
    "id": "2l_KMItzk_cW",
    "outputId": "b34fce9b-fb23-4f25-b0e4-790a7960daf1"
   },
   "outputs": [],
   "source": [
    "#unique values of each columns\n",
    "objects_cols=['year', 'customer_id',  'gender', 'age',\n",
    "       'no_of_days_subscribed', 'multi_screen', 'mail_subscribed',\n",
    "       'weekly_mins_watched', 'minimum_daily_mins', 'maximum_daily_mins',\n",
    "       'weekly_max_night_mins', 'videos_watched', 'maximum_days_inactive',\n",
    "       'customer_support_calls', 'churn']\n",
    "for i in objects_cols:\n",
    "  print(\"column name:{}\".format(i))\n",
    "  print(\"Number of unique columns of\",i,\":{}\".format(data[i].nunique()))\n",
    "  print(\"Values of Unique columns of \",i,\"is below:\\n{}\".format(data[i].value_counts()))\n",
    "  print(\"------------------------------------------------------------------------\")"
   ]
  },
  {
   "cell_type": "code",
   "execution_count": null,
   "metadata": {
    "colab": {
     "base_uri": "https://localhost:8080/",
     "height": 443
    },
    "id": "kU794pDslMKt",
    "outputId": "cf9e3b8e-af32-44dd-c424-92c6a7d827fa"
   },
   "outputs": [],
   "source": [
    "  data.isnull()"
   ]
  },
  {
   "cell_type": "code",
   "execution_count": null,
   "metadata": {
    "colab": {
     "base_uri": "https://localhost:8080/"
    },
    "id": "PzvSqHMAlSAW",
    "outputId": "6686822d-a138-41f5-f522-deafb242c215"
   },
   "outputs": [],
   "source": [
    "data.isnull().sum()"
   ]
  },
  {
   "cell_type": "markdown",
   "metadata": {
    "id": "zPtzS8bCsV3m"
   },
   "source": [
    "# **4.Data Pre-processing**"
   ]
  },
  {
   "cell_type": "markdown",
   "metadata": {
    "id": "iGAuDz8rsm-0"
   },
   "source": [
    "**4.1. Missing Values**"
   ]
  },
  {
   "cell_type": "code",
   "execution_count": null,
   "metadata": {
    "id": "9MUqgMFflZBi"
   },
   "outputs": [],
   "source": [
    "#Null values processed by filling the values\n",
    "data[\"gender\"].fillna(\"No Gender\", inplace = True)\n",
    "#Null values processed using MODE\n",
    "mode = data['maximum_days_inactive'].mode().values[0]\n",
    "data['maximum_days_inactive']= data['maximum_days_inactive'].replace(np.nan, mode)\n",
    "#Null value processed by deleting the rows\n",
    "data = data.dropna(axis = 0, how ='any')\n"
   ]
  },
  {
   "cell_type": "code",
   "execution_count": null,
   "metadata": {
    "colab": {
     "base_uri": "https://localhost:8080/"
    },
    "id": "Q_2SPZERmbXJ",
    "outputId": "0771031f-29a7-4c6b-e860-535eeb232e37"
   },
   "outputs": [],
   "source": [
    "print(data.isnull().sum())\n",
    "data.shape"
   ]
  },
  {
   "cell_type": "markdown",
   "metadata": {
    "id": "7jxvsOemmqRP"
   },
   "source": [
    "**4.2. Label Encoding**"
   ]
  },
  {
   "cell_type": "markdown",
   "metadata": {
    "id": "mBZqM807m1UA"
   },
   "source": [
    "3.3.1 Import Libraries"
   ]
  },
  {
   "cell_type": "code",
   "execution_count": null,
   "metadata": {
    "id": "k3HlhVMwm44p"
   },
   "outputs": [],
   "source": [
    "from sklearn import preprocessing"
   ]
  },
  {
   "cell_type": "code",
   "execution_count": null,
   "metadata": {
    "colab": {
     "base_uri": "https://localhost:8080/"
    },
    "id": "I1GOChF1mj-E",
    "outputId": "bb51dffc-ad4c-4a73-d42f-e80077e64fd4"
   },
   "outputs": [],
   "source": [
    "print(data['gender'].unique())\n",
    "print(data['mail_subscribed'].unique())\n",
    "data['multi_screen'].unique()"
   ]
  },
  {
   "cell_type": "code",
   "execution_count": null,
   "metadata": {
    "colab": {
     "base_uri": "https://localhost:8080/"
    },
    "id": "_t-akQEp42AT",
    "outputId": "bae02256-1967-4aa6-b637-fecc7ddf52eb"
   },
   "outputs": [],
   "source": [
    "label_encoder = preprocessing.LabelEncoder()\n",
    "data['gender']= label_encoder.fit_transform(data['gender'])\n",
    "data['multi_screen']= label_encoder.fit_transform(data['multi_screen'])\n",
    "data['mail_subscribed']= label_encoder.fit_transform(data['mail_subscribed'])\n",
    "print(data['gender'].unique())\n",
    "print(data['mail_subscribed'].unique())\n",
    "data['multi_screen'].unique()"
   ]
  },
  {
   "cell_type": "code",
   "execution_count": null,
   "metadata": {
    "colab": {
     "base_uri": "https://localhost:8080/",
     "height": 383
    },
    "id": "Axudsxpwm9TB",
    "outputId": "dd32bbb3-d75f-4875-c5cd-804e186cbcb4"
   },
   "outputs": [],
   "source": [
    "#display encoded dataset\n",
    "data.head(10)"
   ]
  },
  {
   "cell_type": "markdown",
   "metadata": {
    "id": "wmfb152LLJWY"
   },
   "source": [
    "Drop column 'phone_no' as it is type object with all unique value count\n"
   ]
  },
  {
   "cell_type": "code",
   "execution_count": null,
   "metadata": {
    "id": "JhIg802HJ7_U"
   },
   "outputs": [],
   "source": []
  },
  {
   "cell_type": "markdown",
   "metadata": {
    "id": "XBkT4BZW65xa"
   },
   "source": [
    "# **5. Feature Selection**"
   ]
  },
  {
   "cell_type": "markdown",
   "metadata": {
    "id": "oLJ70OO4rldo"
   },
   "source": [
    "**5.1 ANOVA F-score method**"
   ]
  },
  {
   "cell_type": "code",
   "execution_count": null,
   "metadata": {
    "id": "5dSUol4-qNxa"
   },
   "outputs": [],
   "source": [
    "df=pd.DataFrame(data)"
   ]
  },
  {
   "cell_type": "code",
   "execution_count": null,
   "metadata": {
    "id": "rWq-z_SQ-3qF"
   },
   "outputs": [],
   "source": [
    "X_temp = df.drop(labels=[\"churn\"],axis=1) # Features\n",
    "y_temp = df[\"churn\"] # Target"
   ]
  },
  {
   "cell_type": "code",
   "execution_count": null,
   "metadata": {
    "id": "huHTAgfnHZA9"
   },
   "outputs": [],
   "source": [
    "from sklearn.feature_selection import f_regression, SelectKBest\n",
    "# Applying SelectKBest class to extract top 13 best features\n",
    "fs = SelectKBest(score_func=f_regression,k=13)\n",
    "# Applying feature selection\n",
    "fit = fs.fit(X_temp,y_temp)"
   ]
  },
  {
   "cell_type": "code",
   "execution_count": null,
   "metadata": {
    "colab": {
     "base_uri": "https://localhost:8080/"
    },
    "id": "jF29lOLoHY9m",
    "outputId": "35cc42bd-0226-424c-c10f-47aad70c2b60"
   },
   "outputs": [],
   "source": [
    "features_score = pd.DataFrame(fit.scores_)\n",
    "features = pd.DataFrame(X_temp.columns)\n",
    "feature_score = pd.concat([features,features_score],axis=1)\n",
    "# Assigning column names\n",
    "feature_score.columns = [\"Input_Features\",\"F_Score\"]\n",
    "print(feature_score.nlargest(12,columns=\"F_Score\"))"
   ]
  },
  {
   "cell_type": "markdown",
   "metadata": {
    "id": "qKpnypQrNn3v"
   },
   "source": [
    "**Features Selected:**  \n",
    "'multi_screen',\n",
    "'customer_support_calls',   'weekly_mins_watched',\n",
    "'maximum_daily_mins',\n",
    "'mail_subscribed',\n",
    "'minimum_daily_mins',\n",
    "'customer_id',\n",
    "'maximum_days_inactive'"
   ]
  },
  {
   "cell_type": "markdown",
   "metadata": {
    "id": "8Eptr54XpmuL"
   },
   "source": [
    "##PCA"
   ]
  },
  {
   "cell_type": "code",
   "execution_count": null,
   "metadata": {
    "id": "F3U3C9ZxqKls"
   },
   "outputs": [],
   "source": [
    "df_p = df[['multi_screen',\n",
    "'customer_support_calls',   'weekly_mins_watched',\n",
    "'maximum_daily_mins',\n",
    "'mail_subscribed',\n",
    "'minimum_daily_mins',\n",
    "'customer_id',\n",
    "'maximum_days_inactive']]"
   ]
  },
  {
   "cell_type": "code",
   "execution_count": null,
   "metadata": {
    "colab": {
     "base_uri": "https://localhost:8080/",
     "height": 423
    },
    "id": "hOOx8ar-rYBF",
    "outputId": "d6749c22-7188-47ed-b732-6a1c10146138"
   },
   "outputs": [],
   "source": [
    "df_p"
   ]
  },
  {
   "cell_type": "code",
   "execution_count": null,
   "metadata": {
    "colab": {
     "base_uri": "https://localhost:8080/",
     "height": 423
    },
    "id": "zPzO7Y-uqIoz",
    "outputId": "e1cf67f6-2be7-4ac6-8924-aaaed2878e01"
   },
   "outputs": [],
   "source": [
    "from sklearn.preprocessing import StandardScaler\n",
    "scalar = StandardScaler()\n",
    "df_scaled = pd.DataFrame(scalar.fit_transform(df_p), columns=df_p.columns)\n",
    "df_scaled"
   ]
  },
  {
   "cell_type": "code",
   "execution_count": null,
   "metadata": {
    "colab": {
     "base_uri": "https://localhost:8080/",
     "height": 423
    },
    "id": "95D-0E23rjlW",
    "outputId": "b2bdfb7c-d051-4d83-c1ad-677aa8e31d36"
   },
   "outputs": [],
   "source": [
    "from sklearn.decomposition import PCA\n",
    "pca = PCA()\n",
    "df_pca = pd.DataFrame(pca.fit_transform(df_scaled))\n",
    "df_pca"
   ]
  },
  {
   "cell_type": "markdown",
   "metadata": {
    "id": "oZ5-pNDES0J-"
   },
   "source": [
    "# **6.train_test_split**"
   ]
  },
  {
   "cell_type": "markdown",
   "metadata": {
    "id": "DjW1iGRATqS5"
   },
   "source": [
    "**6.1 Import Libraries**"
   ]
  },
  {
   "cell_type": "code",
   "execution_count": null,
   "metadata": {
    "id": "HzGQbLqUTTHX"
   },
   "outputs": [],
   "source": [
    "from sklearn.model_selection import train_test_split"
   ]
  },
  {
   "cell_type": "code",
   "execution_count": null,
   "metadata": {
    "id": "rdErvNMITo9M"
   },
   "outputs": [],
   "source": [
    "#X=df[['multi_screen', 'customer_support_calls', 'weekly_mins_watched', 'maximum_daily_mins', 'mail_subscribed', 'minimum_daily_mins', 'maximum_days_inactive']]\n",
    "X=df_pca\n",
    "y=df['churn']\n",
    "# using the train test split function\n",
    "X_train, X_test,y_train, y_test = train_test_split(X,y ,random_state=42,test_size=0.2,shuffle=True)"
   ]
  },
  {
   "cell_type": "code",
   "execution_count": null,
   "metadata": {
    "colab": {
     "base_uri": "https://localhost:8080/"
    },
    "id": "Md_rChLyKQPu",
    "outputId": "b274b44a-8c35-42f0-880c-a8fbbf642fea"
   },
   "outputs": [],
   "source": [
    "df.shape"
   ]
  },
  {
   "cell_type": "code",
   "execution_count": null,
   "metadata": {
    "colab": {
     "base_uri": "https://localhost:8080/"
    },
    "id": "_WcMaaDJKY1f",
    "outputId": "5b904d30-a306-47b9-e7b7-c594b7f980ff"
   },
   "outputs": [],
   "source": [
    "X_train.shape"
   ]
  },
  {
   "cell_type": "code",
   "execution_count": null,
   "metadata": {
    "colab": {
     "base_uri": "https://localhost:8080/"
    },
    "id": "CLrxaIzwKcjW",
    "outputId": "89b40804-0011-4f6f-d2d8-8ec866cadd0a"
   },
   "outputs": [],
   "source": [
    "y_train.shape"
   ]
  },
  {
   "cell_type": "code",
   "execution_count": null,
   "metadata": {
    "colab": {
     "base_uri": "https://localhost:8080/",
     "height": 112
    },
    "id": "t92oBf1oUzh9",
    "outputId": "07f82976-d250-41da-bb76-1c241cd418e4"
   },
   "outputs": [],
   "source": [
    "X_train.head(2)"
   ]
  },
  {
   "cell_type": "code",
   "execution_count": null,
   "metadata": {
    "colab": {
     "base_uri": "https://localhost:8080/"
    },
    "id": "s6sxZa4JLUDX",
    "outputId": "154f2112-d5cf-4647-86fe-a634937d7805"
   },
   "outputs": [],
   "source": [
    "y_train.head(2)"
   ]
  },
  {
   "cell_type": "markdown",
   "metadata": {
    "id": "zUmKz-GPSAPn"
   },
   "source": [
    "# **7.Balance Data**"
   ]
  },
  {
   "cell_type": "markdown",
   "metadata": {
    "id": "TIxUJDh1JNZM"
   },
   "source": [
    "**SMOTE**"
   ]
  },
  {
   "cell_type": "code",
   "execution_count": null,
   "metadata": {
    "id": "xNqyShDzR6lM"
   },
   "outputs": [],
   "source": [
    "\n",
    "from imblearn.over_sampling import SMOTE\n",
    "from collections import Counter"
   ]
  },
  {
   "cell_type": "code",
   "execution_count": null,
   "metadata": {
    "colab": {
     "base_uri": "https://localhost:8080/"
    },
    "id": "-y3GJycjJWzT",
    "outputId": "cb2718df-a10b-4d72-ed26-ae5bf6a5b7a6"
   },
   "outputs": [],
   "source": [
    "counter=Counter(y_train)\n",
    "print('Before',counter)\n",
    "#oversampling the train dataset using smote\n",
    "smt=SMOTE()\n",
    "X_train_sm,y_train_sm=smt.fit_resample(X_train,y_train)\n",
    "\n",
    "counter=Counter(y_train_sm)\n",
    "print('After',counter)"
   ]
  },
  {
   "cell_type": "markdown",
   "metadata": {
    "id": "QdhkmJDswBvM"
   },
   "source": [
    "# **8.Model Implementation and Evaluation**"
   ]
  },
  {
   "cell_type": "markdown",
   "metadata": {
    "id": "NYj4h_vF5kiQ"
   },
   "source": [
    "**8.1 RANDOM FOREST CLASSIFIER**"
   ]
  },
  {
   "cell_type": "code",
   "execution_count": null,
   "metadata": {
    "colab": {
     "base_uri": "https://localhost:8080/",
     "height": 74
    },
    "id": "lyTEZwkCJ37l",
    "outputId": "456870f7-131d-4f40-a11d-da546a44e857"
   },
   "outputs": [],
   "source": [
    "from sklearn.ensemble import RandomForestClassifier\n",
    "model_RFC = RandomForestClassifier(n_estimators=70)\n",
    "#n_estimators(=number of trees you want to build before taking the max votings)\n",
    "#its value can be changed from 10 to 100, higher number of trees give better performance\n",
    "model_RFC.fit(X_train_sm , y_train_sm)"
   ]
  },
  {
   "cell_type": "code",
   "execution_count": null,
   "metadata": {
    "colab": {
     "base_uri": "https://localhost:8080/"
    },
    "id": "ZUsmMdHG5uYw",
    "outputId": "4fa0c1c8-0820-4cf6-bfb4-161fae4cd1b6"
   },
   "outputs": [],
   "source": [
    "##Accuracy\n",
    "model_RFC.score(X_test,y_test)"
   ]
  },
  {
   "cell_type": "code",
   "execution_count": null,
   "metadata": {
    "id": "UUzwbwQw5wqR"
   },
   "outputs": [],
   "source": [
    "#testing the model\n",
    "y_predicted_RFC = model_RFC.predict(X_test)"
   ]
  },
  {
   "cell_type": "markdown",
   "metadata": {
    "id": "nwhlXalCiaOL"
   },
   "source": [
    "**8.1.1. Confusion Matrix**"
   ]
  },
  {
   "cell_type": "code",
   "execution_count": null,
   "metadata": {
    "colab": {
     "base_uri": "https://localhost:8080/",
     "height": 267
    },
    "id": "iNsgmvzCE2B-",
    "outputId": "78bacf51-03bb-4833-bb44-b1bdeac44962"
   },
   "outputs": [],
   "source": [
    "from sklearn.metrics import confusion_matrix\n",
    "cm_RFC = confusion_matrix(y_test, y_predicted_RFC)\n",
    "##plotting the confusion matrix\n",
    "\n",
    "fig, ax = plt.subplots(figsize=(2,2))\n",
    "ax.matshow(cm_RFC, cmap=plt.cm.Blues, alpha=0.3)\n",
    "for i in range(cm_RFC.shape[0]):\n",
    "    for j in range(cm_RFC.shape[1]):\n",
    "        ax.text(x=j, y=i,s=cm_RFC[i, j], va='center', ha='center', size='xx-large')\n",
    "\n",
    "plt.xlabel('Predictions', fontsize=12)\n",
    "plt.ylabel('Actuals', fontsize=12)\n",
    "plt.title('Confusion Matrix for RandomForest Classifier', fontsize=16)\n",
    "plt.show()"
   ]
  },
  {
   "cell_type": "markdown",
   "metadata": {
    "id": "3PnVnFx0ilEZ"
   },
   "source": [
    "**8.1.2. Classification Metrics**"
   ]
  },
  {
   "cell_type": "code",
   "execution_count": null,
   "metadata": {
    "colab": {
     "base_uri": "https://localhost:8080/"
    },
    "id": "E8gsMa6crmlF",
    "outputId": "b6b8ed0d-9bc7-4d01-b92d-c1f684223c1a"
   },
   "outputs": [],
   "source": [
    "classification_metrics_rfc= {\n",
    "        \"Accuracy\": accuracy_score(y_test, y_predicted_RFC),\n",
    "        \"Precision\": precision_score(y_test, y_predicted_RFC,average='weighted'),\n",
    "        \"Recall\": recall_score(y_test, y_predicted_RFC,average='weighted'),\n",
    "        \"F1-score\":f1_score(y_test, y_predicted_RFC,average='weighted')\n",
    "    }\n",
    "\n",
    "classification_metrics_rfc"
   ]
  },
  {
   "cell_type": "code",
   "execution_count": null,
   "metadata": {
    "colab": {
     "base_uri": "https://localhost:8080/",
     "height": 241
    },
    "id": "iQBQsBixE-l8",
    "outputId": "ffc77f91-dd7b-4e9a-b3c9-fc2453d9612d"
   },
   "outputs": [],
   "source": [
    "##classification report\n",
    "report_rfc = classification_report(y_test, y_predicted_RFC, output_dict=True)\n",
    "df_classification_report_RFC = pd.DataFrame(report_rfc).transpose()\n",
    "print('clasification report:\\n')\n",
    "df_classification_report_RFC"
   ]
  },
  {
   "cell_type": "markdown",
   "metadata": {
    "id": "KgWbNQtKhaGI"
   },
   "source": [
    "**8.1.3. ROC-CURVE**"
   ]
  },
  {
   "cell_type": "code",
   "execution_count": null,
   "metadata": {
    "colab": {
     "base_uri": "https://localhost:8080/",
     "height": 472
    },
    "id": "WAe5m4W-hq4p",
    "outputId": "20809dd5-3e1e-4939-a94d-29e9fa89acd8"
   },
   "outputs": [],
   "source": [
    "from sklearn.metrics import roc_curve,auc\n",
    "fpr,tpr,_=roc_curve(y_test,y_predicted_RFC)\n",
    "roc_auc=auc(fpr,tpr)\n",
    "plt.figure()\n",
    "plt.plot(fpr, tpr, label='ROC curve (area = %0.2f)' % roc_auc)\n",
    "plt.plot([0, 1], [0, 1], 'k--')\n",
    "plt.xlim([0.0, 1.0])\n",
    "plt.ylim([0.0, 1.05])\n",
    "plt.xlabel('False Positive Rate')\n",
    "plt.ylabel('True Positive Rate')\n",
    "plt.title('ROC Curve for RandomForest Classifier')\n",
    "plt.legend(loc=\"lower right\")\n",
    "plt.show()"
   ]
  },
  {
   "cell_type": "markdown",
   "metadata": {
    "id": "bAFBtVSdiwCC"
   },
   "source": [
    "**8.1.4. Precision Recall Curve**"
   ]
  },
  {
   "cell_type": "code",
   "execution_count": null,
   "metadata": {
    "colab": {
     "base_uri": "https://localhost:8080/",
     "height": 449
    },
    "id": "a-rg40G-i4tj",
    "outputId": "b8a504a5-8f9f-466a-923e-dd2c49d5dce6"
   },
   "outputs": [],
   "source": [
    "#P-R curve\n",
    "from sklearn.metrics import precision_recall_curve\n",
    "from matplotlib import pyplot\n",
    "rfc_probs = model_RFC.predict_proba(X_test)\n",
    "# keep probabilities for the positive outcome only\n",
    "rfc_probs = rfc_probs[:, 1]\n",
    "rfc_precision, rfc_recall, _ = precision_recall_curve(y_test, rfc_probs)\n",
    "# plot the precision-recall curves\n",
    "no_skill = len(y_test[y_test==1]) / len(y_test)\n",
    "pyplot.plot([0, 1], [no_skill, no_skill], linestyle='--', label='Baseline')\n",
    "pyplot.plot(rfc_recall, rfc_precision, marker='.', label='Random Forest')\n",
    "# axis labels\n",
    "pyplot.xlabel('Recall')\n",
    "pyplot.ylabel('Precision')\n",
    "# show the legend\n",
    "pyplot.legend()\n",
    "# show the plot\n",
    "pyplot.show()"
   ]
  },
  {
   "cell_type": "markdown",
   "metadata": {
    "id": "7Q-lCZxf6BKv"
   },
   "source": [
    "**8.2 XGBOOST CLASSIFIER**"
   ]
  },
  {
   "cell_type": "code",
   "execution_count": null,
   "metadata": {
    "colab": {
     "base_uri": "https://localhost:8080/",
     "height": 248
    },
    "id": "zCEHJnnN54vo",
    "outputId": "a59f1b45-97a1-4bf1-ec8c-9f7f479fcf56"
   },
   "outputs": [],
   "source": [
    "\n",
    "\n",
    "\n",
    "#import libraries\n",
    "from xgboost import XGBClassifier\n",
    "#Create model instance\n",
    "bst=XGBClassifier(n_estimators=70,learning_rate=1,objective='binary:logistic')\n",
    "#fit the model\n",
    "bst.fit(X_train_sm,y_train_sm)"
   ]
  },
  {
   "cell_type": "code",
   "execution_count": null,
   "metadata": {
    "colab": {
     "base_uri": "https://localhost:8080/"
    },
    "id": "GhbGMBK_7JhI",
    "outputId": "e08fdbd6-7356-4d14-94c7-cfe6a23466f0"
   },
   "outputs": [],
   "source": [
    "#Accuracy\n",
    "bst.score(X_test,y_test)"
   ]
  },
  {
   "cell_type": "code",
   "execution_count": null,
   "metadata": {
    "id": "9eSgDoKy7fOi"
   },
   "outputs": [],
   "source": [
    "#testing the model\n",
    "y_predicted_XGB=bst.predict(X_test)"
   ]
  },
  {
   "cell_type": "markdown",
   "metadata": {
    "id": "aJT2jwcpjffX"
   },
   "source": [
    "**8.2.1. Confusion Matrix**"
   ]
  },
  {
   "cell_type": "code",
   "execution_count": null,
   "metadata": {
    "colab": {
     "base_uri": "https://localhost:8080/",
     "height": 267
    },
    "id": "3L14VUFOFdof",
    "outputId": "4661e8de-4d18-41fa-ece0-0cd88396fa63"
   },
   "outputs": [],
   "source": [
    "cm_XGB = confusion_matrix(y_test, y_predicted_XGB)\n",
    "##plotting the confusion matrix\n",
    "\n",
    "fig, ax = plt.subplots(figsize=(2,2))\n",
    "ax.matshow(cm_XGB, cmap=plt.cm.Blues, alpha=0.3)\n",
    "for i in range(cm_XGB.shape[0]):\n",
    "    for j in range(cm_XGB.shape[1]):\n",
    "        ax.text(x=j, y=i,s=cm_XGB[i, j], va='center', ha='center', size='xx-large')\n",
    "\n",
    "plt.xlabel('Predictions', fontsize=12)\n",
    "plt.ylabel('Actuals', fontsize=12)\n",
    "plt.title('Confusion Matrix For XGBoost Classifier', fontsize=16)\n",
    "plt.show()"
   ]
  },
  {
   "cell_type": "markdown",
   "metadata": {
    "id": "MCVnfUc8jnbF"
   },
   "source": [
    "**8.2.2. Classification Metrics**"
   ]
  },
  {
   "cell_type": "code",
   "execution_count": null,
   "metadata": {
    "colab": {
     "base_uri": "https://localhost:8080/"
    },
    "id": "LmH3v0i7sjeS",
    "outputId": "40273cc1-65ce-426e-d9dd-dc2e3ca05e68"
   },
   "outputs": [],
   "source": [
    "classification_metrics_XGB= {\n",
    "        \"Accuracy\": accuracy_score(y_test, y_predicted_XGB),\n",
    "        \"Precision\": precision_score(y_test, y_predicted_XGB,average='weighted'),\n",
    "        \"Recall\": recall_score(y_test, y_predicted_XGB,average='weighted'),\n",
    "        \"F1-score\":f1_score(y_test, y_predicted_XGB,average='weighted')\n",
    "    }\n",
    "\n",
    "classification_metrics_XGB"
   ]
  },
  {
   "cell_type": "code",
   "execution_count": null,
   "metadata": {
    "colab": {
     "base_uri": "https://localhost:8080/",
     "height": 241
    },
    "id": "VQzEeCtS8K6p",
    "outputId": "c75dcd14-82df-4f20-deb2-22f90d94c35c"
   },
   "outputs": [],
   "source": [
    "##classification report\n",
    "report_xgb = classification_report(y_test, y_predicted_XGB, output_dict=True)\n",
    "df_classification_report_XGB= pd.DataFrame(report_xgb).transpose()\n",
    "print('clasification report:\\n')\n",
    "df_classification_report_XGB"
   ]
  },
  {
   "cell_type": "markdown",
   "metadata": {
    "id": "-8ZcIMb9jwnl"
   },
   "source": [
    "**8.2.3. ROC-CURVE**"
   ]
  },
  {
   "cell_type": "code",
   "execution_count": null,
   "metadata": {
    "colab": {
     "base_uri": "https://localhost:8080/",
     "height": 472
    },
    "id": "c2AKogSOjym3",
    "outputId": "1f6ec744-c406-486e-ebb0-83123a7b3142"
   },
   "outputs": [],
   "source": [
    "fpr,tpr,_=roc_curve(y_test,y_predicted_XGB)\n",
    "roc_auc=auc(fpr,tpr)\n",
    "plt.figure()\n",
    "plt.plot(fpr, tpr, label='ROC curve (area = %0.2f)' % roc_auc)\n",
    "plt.plot([0, 1], [0, 1], 'k--')\n",
    "plt.xlim([0.0, 1.0])\n",
    "plt.ylim([0.0, 1.05])\n",
    "plt.xlabel('False Positive Rate')\n",
    "plt.ylabel('True Positive Rate')\n",
    "plt.title('ROC Curve for XGBoost Classifier')\n",
    "plt.legend(loc=\"lower right\")\n",
    "plt.show()"
   ]
  },
  {
   "cell_type": "markdown",
   "metadata": {
    "id": "vwlFzqs1kLDL"
   },
   "source": [
    "**8.2.4. Precision Recall Curve**"
   ]
  },
  {
   "cell_type": "code",
   "execution_count": null,
   "metadata": {
    "colab": {
     "base_uri": "https://localhost:8080/",
     "height": 449
    },
    "id": "jmGJLEDUkNxS",
    "outputId": "a4eaba94-58fd-4cf8-8775-372414274f2f"
   },
   "outputs": [],
   "source": [
    "#P-R curve\n",
    "XGB_probs = bst.predict_proba(X_test)\n",
    "# keep probabilities for the positive outcome only\n",
    "XGB_probs = XGB_probs[:, 1]\n",
    "XGB_precision, XGB_recall, _ = precision_recall_curve(y_test, XGB_probs)\n",
    "# plot the precision-recall curves\n",
    "no_skill = len(y_test[y_test==1]) / len(y_test)\n",
    "pyplot.plot([0, 1], [no_skill, no_skill], linestyle='--', label='Baseline')\n",
    "pyplot.plot(XGB_recall, XGB_precision, marker='.', label='XGBOOST CLASSIFIER')\n",
    "# axis labels\n",
    "pyplot.xlabel('Recall')\n",
    "pyplot.ylabel('Precision')\n",
    "# show the legend\n",
    "pyplot.legend()\n",
    "# show the plot\n",
    "pyplot.show()"
   ]
  },
  {
   "cell_type": "markdown",
   "metadata": {
    "id": "4cvtG9hQo2eS"
   },
   "source": [
    "**8.3 K-NEAREST NEIGHBOR (KNN) CLASSIFIER**"
   ]
  },
  {
   "cell_type": "code",
   "execution_count": null,
   "metadata": {
    "colab": {
     "base_uri": "https://localhost:8080/",
     "height": 74
    },
    "id": "lqmpJ3WvBXZ4",
    "outputId": "1eeff226-13cd-4081-ea00-c55c78c152b4"
   },
   "outputs": [],
   "source": [
    "from sklearn.neighbors import KNeighborsClassifier\n",
    "#chose neighbours to be equal to 3\n",
    "knn = KNeighborsClassifier(n_neighbors=3)\n",
    "#fitting the model\n",
    "knn.fit(X_train_sm, y_train_sm)"
   ]
  },
  {
   "cell_type": "code",
   "execution_count": null,
   "metadata": {
    "colab": {
     "base_uri": "https://localhost:8080/"
    },
    "id": "meNiHsacpZjX",
    "outputId": "6aba7d7e-5ccb-41af-9bdd-718bbfe65d83"
   },
   "outputs": [],
   "source": [
    "#Accuracy\n",
    "knn.score(X_test,y_test)"
   ]
  },
  {
   "cell_type": "code",
   "execution_count": null,
   "metadata": {
    "id": "9NghDkz7pger"
   },
   "outputs": [],
   "source": [
    "#testing the model\n",
    "y_predicted_knn = knn.predict(X_test)"
   ]
  },
  {
   "cell_type": "markdown",
   "metadata": {
    "id": "cjUMQeNNkaSE"
   },
   "source": [
    "**8.3.1. Confusion Matrix**"
   ]
  },
  {
   "cell_type": "code",
   "execution_count": null,
   "metadata": {
    "colab": {
     "base_uri": "https://localhost:8080/",
     "height": 267
    },
    "id": "nmqO2ILQpmfr",
    "outputId": "6b3f79b3-b7d6-497b-e806-acf04b4d67fc"
   },
   "outputs": [],
   "source": [
    "from sklearn.metrics import confusion_matrix\n",
    "cm_knn = confusion_matrix(y_test, y_predicted_knn)\n",
    "##plotting the confusion matrix\n",
    "\n",
    "fig, ax = plt.subplots(figsize=(2,2))\n",
    "ax.matshow(cm_knn, cmap=plt.cm.Blues, alpha=0.3)\n",
    "for i in range(cm_knn.shape[0]):\n",
    "    for j in range(cm_knn.shape[1]):\n",
    "        ax.text(x=j, y=i,s=cm_knn[i, j], va='center', ha='center', size='xx-large')\n",
    "\n",
    "plt.xlabel('Predictions', fontsize=12)\n",
    "plt.ylabel('Actuals', fontsize=12)\n",
    "plt.title('Confusion Matrix for KNN Classifier', fontsize=16)\n",
    "plt.show()"
   ]
  },
  {
   "cell_type": "markdown",
   "metadata": {
    "id": "PYVqVAtYklBk"
   },
   "source": [
    "**8.3.2. Classification Metrics**"
   ]
  },
  {
   "cell_type": "code",
   "execution_count": null,
   "metadata": {
    "colab": {
     "base_uri": "https://localhost:8080/"
    },
    "id": "DfqcnnGds1kh",
    "outputId": "93516646-e24e-44bd-9414-e14f3a428a2a"
   },
   "outputs": [],
   "source": [
    "classification_metrics_knn= {\n",
    "        \"Accuracy\": accuracy_score(y_test, y_predicted_knn),\n",
    "        \"Precision\": precision_score(y_test, y_predicted_knn,average='weighted'),\n",
    "        \"Recall\": recall_score(y_test, y_predicted_knn,average='weighted'),\n",
    "        \"F1-score\":f1_score(y_test, y_predicted_knn,average='weighted')\n",
    "    }\n",
    "classification_metrics_knn"
   ]
  },
  {
   "cell_type": "code",
   "execution_count": null,
   "metadata": {
    "colab": {
     "base_uri": "https://localhost:8080/",
     "height": 241
    },
    "id": "FQ04gNggp8ej",
    "outputId": "2d698295-3450-4696-a3b8-a87738585215"
   },
   "outputs": [],
   "source": [
    "##classification report\n",
    "report_knn = classification_report(y_test, y_predicted_knn, output_dict=True)\n",
    "df_classification_report_knn = pd.DataFrame(report_knn).transpose()\n",
    "print('clasification report:\\n')\n",
    "df_classification_report_knn"
   ]
  },
  {
   "cell_type": "markdown",
   "metadata": {
    "id": "Ft3-qtIikquu"
   },
   "source": [
    "**8.3.3. ROC-CURVE**"
   ]
  },
  {
   "cell_type": "code",
   "execution_count": null,
   "metadata": {
    "colab": {
     "base_uri": "https://localhost:8080/",
     "height": 472
    },
    "id": "d6tzKUN5ksuL",
    "outputId": "b9571b6f-d2e2-47e8-d0ee-4fe0db96f3f1"
   },
   "outputs": [],
   "source": [
    "fpr,tpr,_=roc_curve(y_test,y_predicted_knn)\n",
    "roc_auc=auc(fpr,tpr)\n",
    "plt.figure()\n",
    "plt.plot(fpr, tpr, label='ROC curve (area = %0.2f)' % roc_auc)\n",
    "plt.plot([0, 1], [0, 1], 'k--')\n",
    "plt.xlim([0.0, 1.0])\n",
    "plt.ylim([0.0, 1.05])\n",
    "plt.xlabel('False Positive Rate')\n",
    "plt.ylabel('True Positive Rate')\n",
    "plt.title('ROC Curve for KNN Classifier')\n",
    "plt.legend(loc=\"lower right\")\n",
    "plt.show()"
   ]
  },
  {
   "cell_type": "markdown",
   "metadata": {
    "id": "E0Hr4I0zk8o8"
   },
   "source": [
    "**8.3.4. Precision Recall Curve**"
   ]
  },
  {
   "cell_type": "code",
   "execution_count": null,
   "metadata": {
    "colab": {
     "base_uri": "https://localhost:8080/",
     "height": 449
    },
    "id": "c53Q6WQEk-mM",
    "outputId": "8a87bfaf-8bff-48b2-a906-0a46f1f7fa10"
   },
   "outputs": [],
   "source": [
    "#P-R curve\n",
    "knn_probs = knn.predict_proba(X_test)\n",
    "# keep probabilities for the positive outcome only\n",
    "knn_probs = knn_probs[:, 1]\n",
    "knn_precision, knn_recall, _ = precision_recall_curve(y_test, knn_probs)\n",
    "# plot the precision-recall curves\n",
    "no_skill = len(y_test[y_test==1]) / len(y_test)\n",
    "pyplot.plot([0, 1], [no_skill, no_skill], linestyle='--', label='Baseline')\n",
    "pyplot.plot(knn_recall, knn_precision, marker='.', label='KNEIGHBORS CLASSIFIER')\n",
    "# axis labels\n",
    "pyplot.xlabel('Recall')\n",
    "pyplot.ylabel('Precision')\n",
    "# show the legend\n",
    "pyplot.legend()\n",
    "# show the plot\n",
    "pyplot.show()"
   ]
  },
  {
   "cell_type": "markdown",
   "metadata": {
    "id": "r9Ey93KIqped"
   },
   "source": [
    "**8.4 SUPPORT VECTOR MACHINE (SVM) CLASSIFIER**"
   ]
  },
  {
   "cell_type": "code",
   "execution_count": null,
   "metadata": {
    "colab": {
     "base_uri": "https://localhost:8080/",
     "height": 74
    },
    "id": "ADc0Kd_0qBLI",
    "outputId": "90f2b860-48a0-46d4-a52e-2bb2dc8b4015"
   },
   "outputs": [],
   "source": [
    "from sklearn import svm\n",
    "#Create model instance\n",
    "clf = svm.SVC(kernel='linear',probability=True)\n",
    "#fit the model\n",
    "clf.fit(X_train_sm, y_train_sm)"
   ]
  },
  {
   "cell_type": "code",
   "execution_count": null,
   "metadata": {
    "colab": {
     "base_uri": "https://localhost:8080/"
    },
    "id": "yQN_Rf2-2XHy",
    "outputId": "d60445a2-7ad9-45ec-dc22-b0d31958ea87"
   },
   "outputs": [],
   "source": [
    "#Accuracy\n",
    "clf.score(X_test,y_test)"
   ]
  },
  {
   "cell_type": "code",
   "execution_count": null,
   "metadata": {
    "id": "7vXLTyFH1TvA"
   },
   "outputs": [],
   "source": [
    "#testing the model\n",
    "y_predicted_svm = clf.predict(X_test)"
   ]
  },
  {
   "cell_type": "markdown",
   "metadata": {
    "id": "VI-6rDYvlIHw"
   },
   "source": [
    "**8.4.1. Confusion Matrix**"
   ]
  },
  {
   "cell_type": "code",
   "execution_count": null,
   "metadata": {
    "colab": {
     "base_uri": "https://localhost:8080/",
     "height": 267
    },
    "id": "JvtQjfDh2QBb",
    "outputId": "d8084e1b-09a7-43bf-ec7e-078708984813"
   },
   "outputs": [],
   "source": [
    "from sklearn.metrics import confusion_matrix\n",
    "cm_svm = confusion_matrix(y_test, y_predicted_svm)\n",
    "##plotting the confusion matrix\n",
    "\n",
    "fig, ax = plt.subplots(figsize=(2,2))\n",
    "ax.matshow(cm_svm, cmap=plt.cm.Blues, alpha=0.3)\n",
    "for i in range(cm_svm.shape[0]):\n",
    "    for j in range(cm_svm.shape[1]):\n",
    "        ax.text(x=j, y=i,s=cm_svm[i, j], va='center', ha='center', size='xx-large')\n",
    "\n",
    "plt.xlabel('Predictions', fontsize=12)\n",
    "plt.ylabel('Actuals', fontsize=12)\n",
    "plt.title('Confusion Matrix for SVM Classifier', fontsize=16)\n",
    "plt.show()"
   ]
  },
  {
   "cell_type": "markdown",
   "metadata": {
    "id": "QjsVNrsvlO_s"
   },
   "source": [
    "**8.4.2. Classification Metrics**"
   ]
  },
  {
   "cell_type": "code",
   "execution_count": null,
   "metadata": {
    "colab": {
     "base_uri": "https://localhost:8080/"
    },
    "id": "KTP6mr4btBva",
    "outputId": "33adf897-bbe1-4cf3-9165-6d32dd093566"
   },
   "outputs": [],
   "source": [
    "classification_metrics_svm= {\n",
    "        \"Accuracy\": accuracy_score(y_test, y_predicted_svm),\n",
    "        \"Precision\": precision_score(y_test, y_predicted_svm,average='weighted'),\n",
    "        \"Recall\": recall_score(y_test, y_predicted_svm,average='weighted'),\n",
    "        \"F1-score\":f1_score(y_test, y_predicted_svm,average='weighted')\n",
    "    }\n",
    "classification_metrics_svm"
   ]
  },
  {
   "cell_type": "code",
   "execution_count": null,
   "metadata": {
    "colab": {
     "base_uri": "https://localhost:8080/",
     "height": 241
    },
    "id": "uxS1s21D3gN3",
    "outputId": "82736fd2-8daf-4ebc-cd1d-01fc308d502d"
   },
   "outputs": [],
   "source": [
    "##classification report\n",
    "report_svm = classification_report(y_test, y_predicted_svm, output_dict=True)\n",
    "df_classification_report_svm=pd.DataFrame(report_svm).transpose()\n",
    "print('clasification report:\\n')\n",
    "df_classification_report_svm"
   ]
  },
  {
   "cell_type": "markdown",
   "metadata": {
    "id": "uJMJCkBjlZyP"
   },
   "source": [
    "**8.4.3. ROC-CURVE**"
   ]
  },
  {
   "cell_type": "code",
   "execution_count": null,
   "metadata": {
    "colab": {
     "base_uri": "https://localhost:8080/",
     "height": 472
    },
    "id": "NOWdLlQale7M",
    "outputId": "3dffe9bc-1be3-4baa-b7f3-a299d969ab20"
   },
   "outputs": [],
   "source": [
    "fpr,tpr,_=roc_curve(y_test,y_predicted_svm)\n",
    "roc_auc=auc(fpr,tpr)\n",
    "plt.figure()\n",
    "plt.plot(fpr, tpr, label='ROC curve (area = %0.2f)' % roc_auc)\n",
    "plt.plot([0, 1], [0, 1], 'k--')\n",
    "plt.xlim([0.0, 1.0])\n",
    "plt.ylim([0.0, 1.05])\n",
    "plt.xlabel('False Positive Rate')\n",
    "plt.ylabel('True Positive Rate')\n",
    "plt.title('ROC Curve for SVM Classifier')\n",
    "plt.legend(loc=\"lower right\")\n",
    "plt.show()"
   ]
  },
  {
   "cell_type": "markdown",
   "metadata": {
    "id": "zfjTr6mpls6i"
   },
   "source": [
    "**8.4.4. Precision Recall Curve**"
   ]
  },
  {
   "cell_type": "code",
   "execution_count": null,
   "metadata": {
    "colab": {
     "base_uri": "https://localhost:8080/",
     "height": 449
    },
    "id": "bnlUQlDqlu0q",
    "outputId": "e4c0ccc6-aa00-48ee-e2bd-7ec4c0480534"
   },
   "outputs": [],
   "source": [
    "#P-R curve\n",
    "clf_probs = clf.predict_proba(X_test)\n",
    "# keep probabilities for the positive outcome only\n",
    "clf_probs = clf_probs[:, 1]\n",
    "clf_precision, clf_recall, _ = precision_recall_curve(y_test, clf_probs)\n",
    "# plot the precision-recall curves\n",
    "no_skill = len(y_test[y_test==1]) / len(y_test)\n",
    "pyplot.plot([0, 1], [no_skill, no_skill], linestyle='--', label='Baseline')\n",
    "pyplot.plot(clf_recall, clf_precision, marker='.', label='SVM')\n",
    "# axis labels\n",
    "pyplot.xlabel('Recall')\n",
    "pyplot.ylabel('Precision')\n",
    "# show the legend\n",
    "pyplot.legend()\n",
    "# show the plot\n",
    "pyplot.show()"
   ]
  },
  {
   "cell_type": "markdown",
   "metadata": {
    "id": "cClCXV4SfmaY"
   },
   "source": [
    "## **9. Comparison Of Models**"
   ]
  },
  {
   "cell_type": "markdown",
   "metadata": {
    "id": "AcHpmvzCwjEI"
   },
   "source": [
    "**Creating dictionary of classification metrics of each Model**"
   ]
  },
  {
   "cell_type": "code",
   "execution_count": null,
   "metadata": {
    "id": "QUFFDu5Zvw4j"
   },
   "outputs": [],
   "source": [
    "classifiers_m= {\n",
    "    \"RandomForest Classifier\": classification_metrics_rfc,\n",
    "    \"XGBoost Classifier\": classification_metrics_XGB,\n",
    "    \"K-Nearest Neighbors\": classification_metrics_knn,\n",
    "    \"Support Vector Machine\": classification_metrics_svm\n",
    "}\n"
   ]
  },
  {
   "cell_type": "code",
   "execution_count": null,
   "metadata": {
    "colab": {
     "base_uri": "https://localhost:8080/",
     "height": 175
    },
    "id": "AN6Dfhi1yP64",
    "outputId": "116d0b6d-e92d-4faf-9c46-2ac06f1373c9"
   },
   "outputs": [],
   "source": [
    "classm_df = pd.DataFrame.from_dict(classifiers_m, orient='index')\n",
    "classm_df"
   ]
  },
  {
   "cell_type": "code",
   "execution_count": null,
   "metadata": {
    "colab": {
     "base_uri": "https://localhost:8080/",
     "height": 542
    },
    "id": "kWq43JPgx_bj",
    "outputId": "578ce147-3f3a-41ed-8bfd-8700fc437cd5"
   },
   "outputs": [],
   "source": [
    "\n",
    "import plotly.express as px\n",
    "fig = px.bar(classm_df,title=\"Comparison of Algorithms\",barmode='group')\n",
    "fig.show()"
   ]
  },
  {
   "cell_type": "markdown",
   "metadata": {
    "id": "mLlngRrejXxW"
   },
   "source": [
    "**Calibration Plot RFC vs XGB**"
   ]
  },
  {
   "cell_type": "code",
   "execution_count": null,
   "metadata": {
    "id": "Mk_aEDjaj0nJ"
   },
   "outputs": [],
   "source": [
    "import scikitplot as skplt\n",
    "y_rfc_proba = model_RFC.predict_proba(X_test)\n",
    "y_XGB_proba = bst.predict_proba(X_test)"
   ]
  },
  {
   "cell_type": "markdown",
   "metadata": {
    "id": "XoTr7VF8dLet"
   },
   "source": [
    "## RandomForest Classifier is the best fit Model."
   ]
  },
  {
   "cell_type": "markdown",
   "metadata": {
    "id": "_0fRuDgIdic-"
   },
   "source": [
    "## **10. Random Forest Classifier Result Evaluation**"
   ]
  },
  {
   "cell_type": "markdown",
   "metadata": {
    "id": "z_OtDpCWhkeV"
   },
   "source": [
    "**Normalized Confusion Matrix**"
   ]
  },
  {
   "cell_type": "code",
   "execution_count": null,
   "metadata": {
    "colab": {
     "base_uri": "https://localhost:8080/",
     "height": 489
    },
    "id": "v166h_UchP7O",
    "outputId": "485743de-7f93-4435-bc81-8d11a603857e"
   },
   "outputs": [],
   "source": [
    "skplt.metrics.plot_confusion_matrix(y_test, y_predicted_RFC, normalize=True, title = 'Confusion Matrix for RFC')"
   ]
  },
  {
   "cell_type": "markdown",
   "metadata": {
    "id": "TeUZ4NGthuDM"
   },
   "source": [
    "**ROC-CURVE**"
   ]
  },
  {
   "cell_type": "code",
   "execution_count": null,
   "metadata": {
    "colab": {
     "base_uri": "https://localhost:8080/",
     "height": 489
    },
    "id": "a5zsCNQhhbIV",
    "outputId": "537e1321-8704-4dae-84bc-ec7a19f940b0"
   },
   "outputs": [],
   "source": [
    "skplt.metrics.plot_roc(y_test, y_rfc_proba, title = 'ROC Plot for RFC')"
   ]
  },
  {
   "cell_type": "markdown",
   "metadata": {
    "id": "PGwpV37qiDTd"
   },
   "source": [
    "**Precision Recall Curve (PR Curve)**"
   ]
  },
  {
   "cell_type": "code",
   "execution_count": null,
   "metadata": {
    "colab": {
     "base_uri": "https://localhost:8080/",
     "height": 489
    },
    "id": "m2z0Twnhh61r",
    "outputId": "654a567d-2056-4653-aef5-13399676f3f7"
   },
   "outputs": [],
   "source": [
    "skplt.metrics.plot_precision_recall(y_test, y_rfc_proba, title = 'PR Curve for RFC')"
   ]
  },
  {
   "cell_type": "markdown",
   "metadata": {
    "id": "EG65QkXYicsd"
   },
   "source": [
    "**Cumulative Gains Curve And Lift Curve**"
   ]
  },
  {
   "cell_type": "code",
   "execution_count": null,
   "metadata": {
    "colab": {
     "base_uri": "https://localhost:8080/",
     "height": 472
    },
    "id": "_V_1GDBrjGoP",
    "outputId": "6aa00b3e-c1d5-4c41-d0a2-0cd67385ab07"
   },
   "outputs": [],
   "source": [
    "fig, ax = plt.subplots(1,2)\n",
    "skplt.metrics.plot_cumulative_gain(y_test, y_rfc_proba, ax = ax[0], title = 'Cumulative Gains Chart for RFC')\n",
    "skplt.metrics.plot_lift_curve(y_test, y_rfc_proba, ax = ax[1],  title = 'Lift Curve for RFC')\n",
    "plt.show()"
   ]
  },
  {
   "cell_type": "code",
   "execution_count": null,
   "metadata": {
    "id": "h_sJiazo1YTs"
   },
   "outputs": [],
   "source": []
  }
 ],
 "metadata": {
  "colab": {
   "provenance": []
  },
  "kernelspec": {
   "display_name": "Python 3 (ipykernel)",
   "language": "python",
   "name": "python3"
  },
  "language_info": {
   "codemirror_mode": {
    "name": "ipython",
    "version": 3
   },
   "file_extension": ".py",
   "mimetype": "text/x-python",
   "name": "python",
   "nbconvert_exporter": "python",
   "pygments_lexer": "ipython3",
   "version": "3.13.5"
  }
 },
 "nbformat": 4,
 "nbformat_minor": 4
}
